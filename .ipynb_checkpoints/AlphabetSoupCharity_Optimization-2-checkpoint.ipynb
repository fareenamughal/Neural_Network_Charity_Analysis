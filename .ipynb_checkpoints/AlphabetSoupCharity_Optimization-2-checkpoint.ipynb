{
 "cells": [
  {
   "cell_type": "markdown",
   "metadata": {},
   "source": [
    "### Deliverable 3: Optimize the Model"
   ]
  },
  {
   "cell_type": "code",
   "execution_count": null,
   "metadata": {},
   "outputs": [],
   "source": [
    "# Import our dependencies\n",
    "from sklearn.model_selection import train_test_split\n",
    "from sklearn.preprocessing import StandardScaler,OneHotEncoder\n",
    "import pandas as pd\n",
    "import tensorflow as tf\n"
   ]
  },
  {
   "cell_type": "code",
   "execution_count": null,
   "metadata": {},
   "outputs": [],
   "source": [
    "from pathlib import Path\n",
    "print(Path.cwd())\n",
    "\n",
    "#  Import and read the charity_data.csv.\n",
    "import pandas as pd \n",
    "application_df = pd.read_csv(\"Starter_code/charity_data.csv\")\n",
    "application_df.head()"
   ]
  },
  {
   "cell_type": "markdown",
   "metadata": {},
   "source": [
    "### Preprocessing data"
   ]
  },
  {
   "cell_type": "code",
   "execution_count": 3,
   "metadata": {},
   "outputs": [],
   "source": [
    "# Drop the non-beneficial ID columns, 'EIN', 'NAME', \"STATUS\" and \"SPECIAL_CONSIDERATIONS\".\n",
    "application_df.drop([\"EIN\", \"NAME\", \"STATUS\", \"SPECIAL_CONSIDERATIONS\"], axis=1,inplace=True)"
   ]
  },
  {
   "cell_type": "code",
   "execution_count": 4,
   "metadata": {},
   "outputs": [
    {
     "data": {
      "text/plain": [
       "T3       27037\n",
       "T4        1542\n",
       "T6        1216\n",
       "T5        1173\n",
       "T19       1065\n",
       "T8         737\n",
       "T7         725\n",
       "T10        528\n",
       "T9         156\n",
       "Other      120\n",
       "Name: APPLICATION_TYPE, dtype: int64"
      ]
     },
     "execution_count": 4,
     "metadata": {},
     "output_type": "execute_result"
    }
   ],
   "source": [
    "# Look at APPLICATION_TYPE value counts for binning\n",
    "application_counts = application_df[\"APPLICATION_TYPE\"].value_counts()\n",
    "\n",
    "# Determine which values to replace if counts are less than ...?\n",
    "replace_application = list(application_counts[application_counts<150].index)\n",
    "\n",
    "# Replace in dataframe\n",
    "for app in replace_application:\n",
    "    application_df.APPLICATION_TYPE = application_df.APPLICATION_TYPE.replace(app,\"Other\")\n",
    "    \n",
    "# Check to make sure binning was successful\n",
    "application_df.APPLICATION_TYPE.value_counts()"
   ]
  },
  {
   "cell_type": "code",
   "execution_count": 5,
   "metadata": {},
   "outputs": [],
   "source": [
    "# Look at CLASSIFICATION value counts for binning\n",
    "classification_counts = application_df[\"CLASSIFICATION\"].value_counts()\n",
    "\n",
    "# Determine which values to replace if counts are less than ..?\n",
    "replace_classification = list(classification_counts[classification_counts<1000].index)\n",
    "\n",
    "# Replace in dataframe\n",
    "for cls in replace_classification:\n",
    "    application_df.CLASSIFICATION = application_df.CLASSIFICATION.replace(cls,\"Other\")\n",
    "    \n",
    "# Check to make sure binning was successful\n",
    "#application_df.CLASSIFICATION.value_counts()"
   ]
  },
  {
   "cell_type": "code",
   "execution_count": 6,
   "metadata": {},
   "outputs": [],
   "source": [
    "# Look at ASK_AMT value counts for binning\n",
    "ask_counts = application_df[\"ASK_AMT\"].value_counts()\n",
    "\n",
    "# Determine which values to replace if counts are less than ..?\n",
    "replace_ask = list(ask_counts[ask_counts<5000].index)\n",
    "\n",
    "# Replace in dataframe\n",
    "for ak in replace_ask:\n",
    "    application_df.ASK_AMT = application_df.ASK_AMT.replace(ak,\"Other\")\n",
    "    \n",
    "# Check to make sure binning was successful\n",
    "#application_df.ASK_AMT.value_counts()"
   ]
  },
  {
   "cell_type": "code",
   "execution_count": 7,
   "metadata": {},
   "outputs": [],
   "source": [
    "# Look at INCOME_AMT value counts for binning\n",
    "#income_counts = application_df[\"INCOME_AMT\"].value_counts()\n",
    "\n",
    "# Determine which values to replace if counts are less than ..?\n",
    "#replace_income = list(income_counts[income_counts<1000].index)\n",
    "\n",
    "# Replace in dataframe\n",
    "#for inc in replace_income:\n",
    "#    application_df.INCOME_AMT = application_df.INCOME_AMT.replace(inc,\"Other\")\n",
    "    \n",
    "# Check to make sure binning was successful\n",
    "#application_df.INCOME_AMT.value_counts()"
   ]
  },
  {
   "cell_type": "code",
   "execution_count": 8,
   "metadata": {},
   "outputs": [],
   "source": [
    "# Look at AFFILIATION value counts for binning\n",
    "#affiliation_counts = application_df[\"AFFILIATION\"].value_counts()\n",
    "\n",
    "# Determine which values to replace if counts are less than ..?\n",
    "#replace_affiliation = list(affiliation_counts[affiliation_counts<1000].index)\n",
    "\n",
    "# Replace in dataframe\n",
    "#for afl in replace_affiliation:\n",
    "#    application_df.AFFILIATION = application_df.AFFILIATION.replace(afl,\"Other\")\n",
    "    \n",
    "# Check to make sure binning was successful\n",
    "#application_df.AFFILIATION.value_counts()"
   ]
  },
  {
   "cell_type": "code",
   "execution_count": 9,
   "metadata": {},
   "outputs": [],
   "source": [
    "# Generate our categorical variable lists\n",
    "application_cat = application_df.dtypes[application_df.dtypes == 'object'].index.tolist()"
   ]
  },
  {
   "cell_type": "code",
   "execution_count": 10,
   "metadata": {},
   "outputs": [],
   "source": [
    "#Convert datatypes - Encoders require their input to be uniformly\n",
    "application_df = (application_df).astype(str)"
   ]
  },
  {
   "cell_type": "code",
   "execution_count": 11,
   "metadata": {},
   "outputs": [],
   "source": [
    "# Create a OneHotEncoder instance\n",
    "enc = OneHotEncoder(sparse=False)\n",
    "\n",
    "# Fit and transform the OneHotEncoder using the categorical variable list\n",
    "encode_df = pd.DataFrame(enc.fit_transform(application_df[application_cat]))\n",
    "# Add the encoded variable names to the dataframe\n",
    "encode_df.columns = enc.get_feature_names_out(application_cat)\n"
   ]
  },
  {
   "cell_type": "code",
   "execution_count": 12,
   "metadata": {},
   "outputs": [],
   "source": [
    "# Merge one-hot encoded features and drop the originals\n",
    "application_df = application_df.merge(encode_df,left_index=True,right_index=True)\n",
    "application_df = application_df.drop(application_cat,axis=1)\n",
    "#application_df.head()"
   ]
  },
  {
   "cell_type": "code",
   "execution_count": 13,
   "metadata": {},
   "outputs": [],
   "source": [
    "# Convert the \"IS_SUCCESSFUL\" column back to int for the x train model to work\n",
    "application_df['IS_SUCCESSFUL'] = pd.to_numeric(application_df['IS_SUCCESSFUL'])\n",
    "#application_df[\"IS_SUCCESSFUL\"].dtypes"
   ]
  },
  {
   "cell_type": "code",
   "execution_count": 14,
   "metadata": {},
   "outputs": [],
   "source": [
    "# Split our preprocessed data into our features and target arrays\n",
    "X=application_df.drop([\"IS_SUCCESSFUL\"],axis=1)\n",
    "y=application_df[[\"IS_SUCCESSFUL\"]]\n",
    "# Split the preprocessed data into a training and testing dataset\n",
    "X_train, X_test, y_train, y_test = train_test_split(X, y, random_state=42, stratify=y)"
   ]
  },
  {
   "cell_type": "code",
   "execution_count": 15,
   "metadata": {},
   "outputs": [],
   "source": [
    "# Create a StandardScaler instances\n",
    "scaler = StandardScaler()\n",
    "\n",
    "# Fit the StandardScaler\n",
    "X_scaler = scaler.fit(X_train)\n",
    "\n",
    "# Scale the data\n",
    "X_train_scaled = X_scaler.transform(X_train)\n",
    "X_test_scaled = X_scaler.transform(X_test)"
   ]
  },
  {
   "cell_type": "markdown",
   "metadata": {},
   "source": [
    "### Design a neural network model"
   ]
  },
  {
   "cell_type": "code",
   "execution_count": 16,
   "metadata": {},
   "outputs": [
    {
     "name": "stdout",
     "output_type": "stream",
     "text": [
      "Model: \"sequential\"\n",
      "_________________________________________________________________\n",
      " Layer (type)                Output Shape              Param #   \n",
      "=================================================================\n",
      " dense (Dense)               (None, 100)               4300      \n",
      "                                                                 \n",
      " dense_1 (Dense)             (None, 30)                3030      \n",
      "                                                                 \n",
      " dense_2 (Dense)             (None, 1)                 31        \n",
      "                                                                 \n",
      "=================================================================\n",
      "Total params: 7,361\n",
      "Trainable params: 7,361\n",
      "Non-trainable params: 0\n",
      "_________________________________________________________________\n"
     ]
    },
    {
     "name": "stderr",
     "output_type": "stream",
     "text": [
      "2023-01-22 22:21:25.511428: I tensorflow/core/platform/cpu_feature_guard.cc:193] This TensorFlow binary is optimized with oneAPI Deep Neural Network Library (oneDNN) to use the following CPU instructions in performance-critical operations:  SSE4.1 SSE4.2\n",
      "To enable them in other operations, rebuild TensorFlow with the appropriate compiler flags.\n"
     ]
    }
   ],
   "source": [
    "\n",
    "# Define the model - deep neural net, i.e., the number of input features and hidden nodes for each layer.\n",
    "num_input_features = len(X_train_scaled[0])\n",
    "nodes_hidden_layer1 =100\n",
    "nodes_hidden_layer2 = 30\n",
    "#nodes_hidden_layer3 = 10\n",
    "#nodes_hidden_layer4 = 50\n",
    "#nodes_hidden_layer5 = 25\n",
    "\n",
    "nn = tf.keras.models.Sequential()\n",
    "\n",
    "# First hidden layer\n",
    "nn.add(tf.keras.layers.Dense(units=nodes_hidden_layer1, activation=\"relu\", input_dim=num_input_features))\n",
    "\n",
    "# Second hidden layer\n",
    "nn.add(tf.keras.layers.Dense(units=nodes_hidden_layer2, activation=\"sigmoid\"))\n",
    "\n",
    "# Third hidden layer\n",
    "#nn.add(tf.keras.layers.Dense(units=nodes_hidden_layer3, activation=\"sigmoid\"))\n",
    "\n",
    "# Fourth hidden layer\n",
    "#nn.add(tf.keras.layers.Dense(units=nodes_hidden_layer4, activation=\"sigmoid\"))\n",
    "\n",
    "# Fifth hidden layer\n",
    "#nn.add(tf.keras.layers.Dense(units=nodes_hidden_layer5, activation=\"relu\"))\n",
    "\n",
    "\n",
    "# Output layer\n",
    "nn.add(tf.keras.layers.Dense(units=1, activation=\"sigmoid\"))\n",
    "\n",
    "# Check the structure of the model\n",
    "nn.summary()"
   ]
  },
  {
   "cell_type": "code",
   "execution_count": 17,
   "metadata": {},
   "outputs": [],
   "source": [
    "# Checkpoint dependencies\n",
    "import os\n",
    "from tensorflow.keras.callbacks import ModelCheckpoint\n",
    "\n",
    "# Checkpoint path and file name\n",
    "os.makedirs(\"Assignment_checkpoint/\",exist_ok=True)\n",
    "checkpoint_path = \"Assignment_checkpoint/weights.{epoch:o2d}.hd5c\" "
   ]
  },
  {
   "cell_type": "code",
   "execution_count": 18,
   "metadata": {},
   "outputs": [],
   "source": [
    "# Compile the model\n",
    "nn.compile(loss=\"binary_crossentropy\", optimizer=\"adam\", metrics=[\"accuracy\"])"
   ]
  },
  {
   "cell_type": "code",
   "execution_count": 28,
   "metadata": {},
   "outputs": [],
   "source": [
    "# Callback that saves the model's weight every 5 epochs\n",
    "cp_callback = ModelCheckpoint(\n",
    "    filepath=checkpoint_path, \n",
    "    verbose=1, \n",
    "    save_weights_only=True,\n",
    "    save_freq=5)"
   ]
  },
  {
   "cell_type": "code",
   "execution_count": 29,
   "metadata": {},
   "outputs": [
    {
     "name": "stdout",
     "output_type": "stream",
     "text": [
      "Epoch 1/100\n",
      "804/804 [==============================] - 1s 664us/step - loss: 0.5301 - accuracy: 0.7428\n",
      "Epoch 2/100\n",
      "804/804 [==============================] - 1s 657us/step - loss: 0.5298 - accuracy: 0.7426\n",
      "Epoch 3/100\n",
      "804/804 [==============================] - 1s 663us/step - loss: 0.5295 - accuracy: 0.7428\n",
      "Epoch 4/100\n",
      "804/804 [==============================] - 1s 658us/step - loss: 0.5297 - accuracy: 0.7425\n",
      "Epoch 5/100\n",
      "804/804 [==============================] - 1s 660us/step - loss: 0.5295 - accuracy: 0.7429\n",
      "Epoch 6/100\n",
      "804/804 [==============================] - 1s 666us/step - loss: 0.5294 - accuracy: 0.7429\n",
      "Epoch 7/100\n",
      "804/804 [==============================] - 1s 655us/step - loss: 0.5304 - accuracy: 0.7427\n",
      "Epoch 8/100\n",
      "804/804 [==============================] - 1s 660us/step - loss: 0.5300 - accuracy: 0.7421\n",
      "Epoch 9/100\n",
      "804/804 [==============================] - 1s 660us/step - loss: 0.5294 - accuracy: 0.7428\n",
      "Epoch 10/100\n",
      "804/804 [==============================] - 1s 671us/step - loss: 0.5294 - accuracy: 0.7426\n",
      "Epoch 11/100\n",
      "804/804 [==============================] - 1s 657us/step - loss: 0.5294 - accuracy: 0.7430\n",
      "Epoch 12/100\n",
      "804/804 [==============================] - 1s 654us/step - loss: 0.5296 - accuracy: 0.7421\n",
      "Epoch 13/100\n",
      "804/804 [==============================] - 1s 654us/step - loss: 0.5290 - accuracy: 0.7434\n",
      "Epoch 14/100\n",
      "804/804 [==============================] - 1s 655us/step - loss: 0.5293 - accuracy: 0.7428\n",
      "Epoch 15/100\n",
      "804/804 [==============================] - 1s 656us/step - loss: 0.5289 - accuracy: 0.7431\n",
      "Epoch 16/100\n",
      "804/804 [==============================] - 1s 655us/step - loss: 0.5290 - accuracy: 0.7434\n",
      "Epoch 17/100\n",
      "804/804 [==============================] - 1s 653us/step - loss: 0.5289 - accuracy: 0.7431\n",
      "Epoch 18/100\n",
      "804/804 [==============================] - 1s 655us/step - loss: 0.5293 - accuracy: 0.7427\n",
      "Epoch 19/100\n",
      "804/804 [==============================] - 1s 652us/step - loss: 0.5291 - accuracy: 0.7430\n",
      "Epoch 20/100\n",
      "804/804 [==============================] - 1s 654us/step - loss: 0.5290 - accuracy: 0.7432\n",
      "Epoch 21/100\n",
      "804/804 [==============================] - 1s 670us/step - loss: 0.5292 - accuracy: 0.7431\n",
      "Epoch 22/100\n",
      "804/804 [==============================] - 1s 684us/step - loss: 0.5292 - accuracy: 0.7430\n",
      "Epoch 23/100\n",
      "804/804 [==============================] - 1s 651us/step - loss: 0.5288 - accuracy: 0.7429\n",
      "Epoch 24/100\n",
      "804/804 [==============================] - 1s 654us/step - loss: 0.5295 - accuracy: 0.7428\n",
      "Epoch 25/100\n",
      "804/804 [==============================] - 1s 655us/step - loss: 0.5289 - accuracy: 0.7430\n",
      "Epoch 26/100\n",
      "804/804 [==============================] - 1s 657us/step - loss: 0.5289 - accuracy: 0.7428\n",
      "Epoch 27/100\n",
      "804/804 [==============================] - 1s 655us/step - loss: 0.5290 - accuracy: 0.7435\n",
      "Epoch 28/100\n",
      "804/804 [==============================] - 1s 656us/step - loss: 0.5290 - accuracy: 0.7431\n",
      "Epoch 29/100\n",
      "804/804 [==============================] - 1s 655us/step - loss: 0.5288 - accuracy: 0.7427\n",
      "Epoch 30/100\n",
      "804/804 [==============================] - 1s 671us/step - loss: 0.5287 - accuracy: 0.7437\n",
      "Epoch 31/100\n",
      "804/804 [==============================] - 1s 652us/step - loss: 0.5286 - accuracy: 0.7431\n",
      "Epoch 32/100\n",
      "804/804 [==============================] - 1s 653us/step - loss: 0.5291 - accuracy: 0.7428\n",
      "Epoch 33/100\n",
      "804/804 [==============================] - 1s 654us/step - loss: 0.5288 - accuracy: 0.7434\n",
      "Epoch 34/100\n",
      "804/804 [==============================] - 1s 656us/step - loss: 0.5288 - accuracy: 0.7428\n",
      "Epoch 35/100\n",
      "804/804 [==============================] - 1s 654us/step - loss: 0.5288 - accuracy: 0.7424\n",
      "Epoch 36/100\n",
      "804/804 [==============================] - 1s 653us/step - loss: 0.5284 - accuracy: 0.7441\n",
      "Epoch 37/100\n",
      "804/804 [==============================] - 1s 664us/step - loss: 0.5283 - accuracy: 0.7432\n",
      "Epoch 38/100\n",
      "804/804 [==============================] - 1s 660us/step - loss: 0.5289 - accuracy: 0.7430\n",
      "Epoch 39/100\n",
      "804/804 [==============================] - 1s 659us/step - loss: 0.5286 - accuracy: 0.7425\n",
      "Epoch 40/100\n",
      "804/804 [==============================] - 1s 659us/step - loss: 0.5283 - accuracy: 0.7432\n",
      "Epoch 41/100\n",
      "804/804 [==============================] - 1s 657us/step - loss: 0.5291 - accuracy: 0.7430\n",
      "Epoch 42/100\n",
      "804/804 [==============================] - 1s 693us/step - loss: 0.5284 - accuracy: 0.7433\n",
      "Epoch 43/100\n",
      "804/804 [==============================] - 1s 656us/step - loss: 0.5285 - accuracy: 0.7427\n",
      "Epoch 44/100\n",
      "804/804 [==============================] - 1s 708us/step - loss: 0.5286 - accuracy: 0.7435\n",
      "Epoch 45/100\n",
      "804/804 [==============================] - 1s 743us/step - loss: 0.5282 - accuracy: 0.7436\n",
      "Epoch 46/100\n",
      "804/804 [==============================] - 1s 661us/step - loss: 0.5287 - accuracy: 0.7430\n",
      "Epoch 47/100\n",
      "804/804 [==============================] - 1s 658us/step - loss: 0.5284 - accuracy: 0.7434\n",
      "Epoch 48/100\n",
      "804/804 [==============================] - 1s 670us/step - loss: 0.5283 - accuracy: 0.7435\n",
      "Epoch 49/100\n",
      "804/804 [==============================] - 1s 658us/step - loss: 0.5287 - accuracy: 0.7433\n",
      "Epoch 50/100\n",
      "804/804 [==============================] - 1s 661us/step - loss: 0.5283 - accuracy: 0.7435\n",
      "Epoch 51/100\n",
      "804/804 [==============================] - 1s 681us/step - loss: 0.5288 - accuracy: 0.7437\n",
      "Epoch 52/100\n",
      "804/804 [==============================] - 1s 683us/step - loss: 0.5288 - accuracy: 0.7429\n",
      "Epoch 53/100\n",
      "804/804 [==============================] - 1s 660us/step - loss: 0.5283 - accuracy: 0.7429\n",
      "Epoch 54/100\n",
      "804/804 [==============================] - 1s 656us/step - loss: 0.5285 - accuracy: 0.7428\n",
      "Epoch 55/100\n",
      "804/804 [==============================] - 1s 655us/step - loss: 0.5284 - accuracy: 0.7430\n",
      "Epoch 56/100\n",
      "804/804 [==============================] - 1s 653us/step - loss: 0.5278 - accuracy: 0.7432\n",
      "Epoch 57/100\n",
      "804/804 [==============================] - 1s 671us/step - loss: 0.5282 - accuracy: 0.7432\n",
      "Epoch 58/100\n",
      "804/804 [==============================] - 1s 654us/step - loss: 0.5282 - accuracy: 0.7430\n",
      "Epoch 59/100\n",
      "804/804 [==============================] - 1s 655us/step - loss: 0.5291 - accuracy: 0.7431\n",
      "Epoch 60/100\n",
      "804/804 [==============================] - 1s 654us/step - loss: 0.5282 - accuracy: 0.7437\n",
      "Epoch 61/100\n",
      "804/804 [==============================] - 1s 655us/step - loss: 0.5282 - accuracy: 0.7424\n",
      "Epoch 62/100\n",
      "804/804 [==============================] - 1s 657us/step - loss: 0.5286 - accuracy: 0.7432\n",
      "Epoch 63/100\n",
      "804/804 [==============================] - 1s 653us/step - loss: 0.5283 - accuracy: 0.7436\n",
      "Epoch 64/100\n",
      "804/804 [==============================] - 1s 656us/step - loss: 0.5283 - accuracy: 0.7434\n",
      "Epoch 65/100\n",
      "804/804 [==============================] - 1s 651us/step - loss: 0.5280 - accuracy: 0.7438\n",
      "Epoch 66/100\n",
      "804/804 [==============================] - 1s 647us/step - loss: 0.5282 - accuracy: 0.7430\n",
      "Epoch 67/100\n",
      "804/804 [==============================] - 1s 656us/step - loss: 0.5282 - accuracy: 0.7441\n",
      "Epoch 68/100\n",
      "804/804 [==============================] - 1s 670us/step - loss: 0.5283 - accuracy: 0.7433\n",
      "Epoch 69/100\n",
      "804/804 [==============================] - 1s 658us/step - loss: 0.5293 - accuracy: 0.7434\n",
      "Epoch 70/100\n",
      "804/804 [==============================] - 1s 656us/step - loss: 0.5285 - accuracy: 0.7435\n",
      "Epoch 71/100\n",
      "804/804 [==============================] - 1s 656us/step - loss: 0.5281 - accuracy: 0.7428\n",
      "Epoch 72/100\n",
      "804/804 [==============================] - 1s 666us/step - loss: 0.5279 - accuracy: 0.7435\n",
      "Epoch 73/100\n",
      "804/804 [==============================] - 1s 679us/step - loss: 0.5279 - accuracy: 0.7431\n",
      "Epoch 74/100\n",
      "804/804 [==============================] - 1s 656us/step - loss: 0.5278 - accuracy: 0.7431\n",
      "Epoch 75/100\n",
      "804/804 [==============================] - 1s 665us/step - loss: 0.5282 - accuracy: 0.7425\n",
      "Epoch 76/100\n",
      "804/804 [==============================] - 1s 658us/step - loss: 0.5281 - accuracy: 0.7437\n",
      "Epoch 77/100\n",
      "804/804 [==============================] - 1s 687us/step - loss: 0.5282 - accuracy: 0.7433\n",
      "Epoch 78/100\n",
      "804/804 [==============================] - 1s 667us/step - loss: 0.5279 - accuracy: 0.7437\n",
      "Epoch 79/100\n"
     ]
    },
    {
     "name": "stdout",
     "output_type": "stream",
     "text": [
      "804/804 [==============================] - 1s 654us/step - loss: 0.5281 - accuracy: 0.7434\n",
      "Epoch 80/100\n",
      "804/804 [==============================] - 1s 656us/step - loss: 0.5285 - accuracy: 0.7432\n",
      "Epoch 81/100\n",
      "804/804 [==============================] - 1s 675us/step - loss: 0.5288 - accuracy: 0.7425\n",
      "Epoch 82/100\n",
      "804/804 [==============================] - 1s 680us/step - loss: 0.5282 - accuracy: 0.7434\n",
      "Epoch 83/100\n",
      "804/804 [==============================] - 1s 652us/step - loss: 0.5275 - accuracy: 0.7434\n",
      "Epoch 84/100\n",
      "804/804 [==============================] - 1s 655us/step - loss: 0.5279 - accuracy: 0.7425\n",
      "Epoch 85/100\n",
      "804/804 [==============================] - 1s 657us/step - loss: 0.5279 - accuracy: 0.7431\n",
      "Epoch 86/100\n",
      "804/804 [==============================] - 1s 659us/step - loss: 0.5273 - accuracy: 0.7439\n",
      "Epoch 87/100\n",
      "804/804 [==============================] - 1s 650us/step - loss: 0.5283 - accuracy: 0.7432\n",
      "Epoch 88/100\n",
      "804/804 [==============================] - 1s 661us/step - loss: 0.5280 - accuracy: 0.7427\n",
      "Epoch 89/100\n",
      "804/804 [==============================] - 1s 653us/step - loss: 0.5277 - accuracy: 0.7430\n",
      "Epoch 90/100\n",
      "804/804 [==============================] - 1s 665us/step - loss: 0.5280 - accuracy: 0.7429\n",
      "Epoch 91/100\n",
      "804/804 [==============================] - 1s 654us/step - loss: 0.5275 - accuracy: 0.7435\n",
      "Epoch 92/100\n",
      "804/804 [==============================] - 1s 656us/step - loss: 0.5277 - accuracy: 0.7433\n",
      "Epoch 93/100\n",
      "804/804 [==============================] - 1s 662us/step - loss: 0.5275 - accuracy: 0.7432\n",
      "Epoch 94/100\n",
      "804/804 [==============================] - 1s 650us/step - loss: 0.5278 - accuracy: 0.7432\n",
      "Epoch 95/100\n",
      "804/804 [==============================] - 1s 650us/step - loss: 0.5278 - accuracy: 0.7436\n",
      "Epoch 96/100\n",
      "804/804 [==============================] - 1s 669us/step - loss: 0.5284 - accuracy: 0.7434\n",
      "Epoch 97/100\n",
      "804/804 [==============================] - 1s 650us/step - loss: 0.5280 - accuracy: 0.7426\n",
      "Epoch 98/100\n",
      "804/804 [==============================] - 1s 652us/step - loss: 0.5277 - accuracy: 0.7437\n",
      "Epoch 99/100\n",
      "804/804 [==============================] - 1s 653us/step - loss: 0.5283 - accuracy: 0.7437\n",
      "Epoch 100/100\n",
      "804/804 [==============================] - 1s 653us/step - loss: 0.5276 - accuracy: 0.7441\n"
     ]
    }
   ],
   "source": [
    "# Train the model\n",
    "fit_model = nn.fit(X_train_scaled,y_train,epochs=100)#,callbacks=[cp_callback])"
   ]
  },
  {
   "cell_type": "code",
   "execution_count": 42,
   "metadata": {},
   "outputs": [
    {
     "name": "stdout",
     "output_type": "stream",
     "text": [
      "268/268 - 0s - loss: 0.5646 - accuracy: 0.7252 - 144ms/epoch - 537us/step\n",
      "Loss: 0.5645833015441895, Accuracy: 0.7252478003501892\n"
     ]
    }
   ],
   "source": [
    "# Evaluate the model using the test data\n",
    "model_loss, model_accuracy = nn.evaluate(X_test_scaled,y_test,verbose=2)\n",
    "print(f\"Loss: {model_loss}, Accuracy: {model_accuracy}\")"
   ]
  },
  {
   "cell_type": "code",
   "execution_count": 43,
   "metadata": {},
   "outputs": [
    {
     "name": "stderr",
     "output_type": "stream",
     "text": [
      "WARNING:absl:Found untraced functions such as _update_step_xla while saving (showing 1 of 1). These functions will not be directly callable after loading.\n"
     ]
    },
    {
     "name": "stdout",
     "output_type": "stream",
     "text": [
      "INFO:tensorflow:Assets written to: AlphabetSoupCharity.h5c/assets\n"
     ]
    },
    {
     "name": "stderr",
     "output_type": "stream",
     "text": [
      "INFO:tensorflow:Assets written to: AlphabetSoupCharity.h5c/assets\n"
     ]
    }
   ],
   "source": [
    "nn.save(\"AlphabetSoupCharity.h5c\")"
   ]
  },
  {
   "cell_type": "code",
   "execution_count": null,
   "metadata": {},
   "outputs": [],
   "source": []
  },
  {
   "cell_type": "code",
   "execution_count": null,
   "metadata": {},
   "outputs": [],
   "source": []
  },
  {
   "cell_type": "code",
   "execution_count": null,
   "metadata": {},
   "outputs": [],
   "source": []
  },
  {
   "cell_type": "code",
   "execution_count": null,
   "metadata": {},
   "outputs": [],
   "source": []
  },
  {
   "cell_type": "code",
   "execution_count": null,
   "metadata": {},
   "outputs": [],
   "source": []
  }
 ],
 "metadata": {
  "kernelspec": {
   "display_name": "mlenv",
   "language": "python",
   "name": "mlenv"
  },
  "language_info": {
   "codemirror_mode": {
    "name": "ipython",
    "version": 3
   },
   "file_extension": ".py",
   "mimetype": "text/x-python",
   "name": "python",
   "nbconvert_exporter": "python",
   "pygments_lexer": "ipython3",
   "version": "3.9.15"
  }
 },
 "nbformat": 4,
 "nbformat_minor": 2
}
